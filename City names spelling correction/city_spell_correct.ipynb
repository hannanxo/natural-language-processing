{
 "cells": [
  {
   "cell_type": "code",
   "execution_count": null,
   "id": "a36827ca",
   "metadata": {},
   "outputs": [],
   "source": [
    "import pandas as pd\n",
    "\n",
    "df = pd.read_csv('pk.csv') # pakistan cities database\n",
    "# print(df)"
   ]
  },
  {
   "cell_type": "code",
   "execution_count": null,
   "id": "c6ee1211",
   "metadata": {},
   "outputs": [],
   "source": [
    "cities = df['city'] # ['city'] gives us the column with city names\n",
    "#cities"
   ]
  },
  {
   "cell_type": "code",
   "execution_count": null,
   "id": "e6863a1c",
   "metadata": {},
   "outputs": [],
   "source": [
    "def recursiveEditDistance(source, target, slen, tlen):\n",
    "    if slen == 0:\n",
    "        return tlen\n",
    "    if tlen == 0:\n",
    "        return slen\n",
    "    if source[slen - 1] == target[tlen - 1]:\n",
    "        return recursiveEditDistance(source, target, slen - 1, tlen - 1)\n",
    "    return min(recursiveEditDistance(source, target, slen, tlen - 1) + 1,\n",
    "              recursiveEditDistance(source, target, slen - 1, tlen) + 1,\n",
    "              recursiveEditDistance(source, target, slen - 1, tlen - 1) + 2)"
   ]
  },
  {
   "cell_type": "code",
   "execution_count": null,
   "id": "2cbe2c17",
   "metadata": {},
   "outputs": [],
   "source": [
    "def matchCities(source):\n",
    "    \n",
    "    # Looping through the cities list and for each city recursiveEditDistance() is called and edit distance is calculated\n",
    "    # the minimum distance is stored in below variables and the city having shortest editDistance is returned.\n",
    "    shortestCityDistance = 0\n",
    "    shortestCityName = source    \n",
    "    \n",
    "    for city in cities:\n",
    "        count = recursiveEditDistance(source, city, len(source), len(city))\n",
    "        \n",
    "        if (city == source):\n",
    "            return city\n",
    "        \n",
    "        if(shortestCityDistance == 0):\n",
    "            shortestCityDistance = count\n",
    "            \n",
    "        if (shortestCityDistance > count):\n",
    "            shortestCityDistance = count\n",
    "            shortestCityName = city\n",
    "        \n",
    "    return 'Maybe you meant:', shortestCityName,'with editDistance of', shortestCityDistance"
   ]
  },
  {
   "cell_type": "code",
   "execution_count": null,
   "id": "fbd6a025",
   "metadata": {},
   "outputs": [],
   "source": [
    "userInput = input('Enter name of the city: ');\n",
    "matchCities(userInput)"
   ]
  },
  {
   "cell_type": "code",
   "execution_count": null,
   "id": "977c34e9",
   "metadata": {},
   "outputs": [],
   "source": []
  }
 ],
 "metadata": {
  "kernelspec": {
   "display_name": "Python 3",
   "language": "python",
   "name": "python3"
  },
  "language_info": {
   "codemirror_mode": {
    "name": "ipython",
    "version": 3
   },
   "file_extension": ".py",
   "mimetype": "text/x-python",
   "name": "python",
   "nbconvert_exporter": "python",
   "pygments_lexer": "ipython3",
   "version": "3.8.8"
  }
 },
 "nbformat": 4,
 "nbformat_minor": 5
}
